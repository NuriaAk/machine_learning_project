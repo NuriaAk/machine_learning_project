{
 "cells": [
  {
   "cell_type": "markdown",
   "id": "4baa38cd-c589-4f57-aa84-a49f62b86ee3",
   "metadata": {},
   "source": [
    "# Notes\n",
    "\n",
    "## Enviroments\n",
    "\n",
    "It is important to isolate on enviroment in order to avoid the conflicts of libraries' versions.\n",
    "We can use virtual enviroments for that:\n",
    "* pipenv\n",
    "* poetry\n",
    "* conda\n",
    "* ..."
   ]
  },
  {
   "cell_type": "code",
   "execution_count": 1,
   "id": "4ea447a1-ee42-4a18-b5b7-737b53178be6",
   "metadata": {},
   "outputs": [
    {
     "name": "stdout",
     "output_type": "stream",
     "text": [
      "Collecting pipenv\n",
      "  Downloading pipenv-2025.0.4-py3-none-any.whl.metadata (17 kB)\n",
      "Requirement already satisfied: certifi in /home/codespace/.local/lib/python3.12/site-packages (from pipenv) (2025.7.9)\n",
      "Requirement already satisfied: packaging>=22 in /home/codespace/.local/lib/python3.12/site-packages (from pipenv) (25.0)\n",
      "Requirement already satisfied: setuptools>=67 in /home/codespace/.local/lib/python3.12/site-packages (from pipenv) (80.9.0)\n",
      "Collecting virtualenv>=20.24.2 (from pipenv)\n",
      "  Downloading virtualenv-20.35.3-py3-none-any.whl.metadata (4.6 kB)\n",
      "Collecting distlib<1,>=0.3.7 (from virtualenv>=20.24.2->pipenv)\n",
      "  Downloading distlib-0.4.0-py2.py3-none-any.whl.metadata (5.2 kB)\n",
      "Requirement already satisfied: filelock<4,>=3.12.2 in /home/codespace/.local/lib/python3.12/site-packages (from virtualenv>=20.24.2->pipenv) (3.13.1)\n",
      "Requirement already satisfied: platformdirs<5,>=3.9.1 in /home/codespace/.local/lib/python3.12/site-packages (from virtualenv>=20.24.2->pipenv) (4.3.8)\n",
      "Downloading pipenv-2025.0.4-py3-none-any.whl (2.9 MB)\n",
      "\u001b[2K   \u001b[38;2;114;156;31m━━━━━━━━━━━━━━━━━━━━━━━━━━━━━━━━━━━━━━━━\u001b[0m \u001b[32m2.9/2.9 MB\u001b[0m \u001b[31m35.4 MB/s\u001b[0m eta \u001b[36m0:00:00\u001b[0m\n",
      "\u001b[?25hDownloading virtualenv-20.35.3-py3-none-any.whl (6.0 MB)\n",
      "\u001b[2K   \u001b[38;2;114;156;31m━━━━━━━━━━━━━━━━━━━━━━━━━━━━━━━━━━━━━━━━\u001b[0m \u001b[32m6.0/6.0 MB\u001b[0m \u001b[31m56.3 MB/s\u001b[0m eta \u001b[36m0:00:00\u001b[0m\n",
      "\u001b[?25hDownloading distlib-0.4.0-py2.py3-none-any.whl (469 kB)\n",
      "Installing collected packages: distlib, virtualenv, pipenv\n",
      "\u001b[2K   \u001b[38;2;114;156;31m━━━━━━━━━━━━━━━━━━━━━━━━━━━━━━━━━━━━━━━━\u001b[0m \u001b[32m3/3\u001b[0m [pipenv]━━━━━━━━━━━\u001b[0m \u001b[32m2/3\u001b[0m [pipenv]\n",
      "\u001b[1A\u001b[2KSuccessfully installed distlib-0.4.0 pipenv-2025.0.4 virtualenv-20.35.3\n",
      "\n",
      "\u001b[1m[\u001b[0m\u001b[34;49mnotice\u001b[0m\u001b[1;39;49m]\u001b[0m\u001b[39;49m A new release of pip is available: \u001b[0m\u001b[31;49m25.1.1\u001b[0m\u001b[39;49m -> \u001b[0m\u001b[32;49m25.3\u001b[0m\n",
      "\u001b[1m[\u001b[0m\u001b[34;49mnotice\u001b[0m\u001b[1;39;49m]\u001b[0m\u001b[39;49m To update, run: \u001b[0m\u001b[32;49mpython3 -m pip install --upgrade pip\u001b[0m\n",
      "Note: you may need to restart the kernel to use updated packages.\n"
     ]
    }
   ],
   "source": [
    "pip install pipenv"
   ]
  },
  {
   "cell_type": "markdown",
   "id": "6c9d1c46-f321-4f5e-99f1-4ffbd5fd8714",
   "metadata": {},
   "source": [
    "**later when you need to download the libraries into this enviroment, type 'pipenv install libraryname'**"
   ]
  },
  {
   "cell_type": "markdown",
   "id": "06e0bce3-bf58-4557-b4fc-c989c249dda2",
   "metadata": {},
   "source": [
    "In the \"Pipfile\" you can see the packaages installed:\n",
    "```\n",
    "[[source]]\n",
    "url = \"https://pypi.org/simple\"\n",
    "verify_ssl = true\n",
    "name = \"pypi\"\n",
    "\n",
    "[packages]\n",
    "\n",
    "[dev-packages]\n",
    "\n",
    "[requires]\n",
    "python_version = \"3.12\"\n",
    "```\n",
    "-------------------------------------- \n",
    "\n",
    "\n",
    "You put all the packages to the file and then to install all listed packages, you  just type:\n",
    "```\n",
    "pipenv install\n",
    "\n",
    "```\n",
    "-------------------------------------- \n",
    "\n",
    " With the Pipfile.lock you can  keep reproducability.\n",
    "\n",
    "-------------------------------------- \n",
    " To get inside and use the exact enviroment we type:\n",
    " ```\n",
    "pipenv shell\n",
    "\n",
    "```\n",
    "And then we execute commands within the enviroment. Or we type pipenv run before the command:\n",
    "```\n",
    "$ pipenv run gunicorn --bind 0.0.0.0:9696 predict:app\n",
    "```"
   ]
  },
  {
   "cell_type": "markdown",
   "id": "a671c44b-6cc9-4ea5-b671-e8da9eb1fa98",
   "metadata": {},
   "source": [
    "## Containerization\n",
    "\n",
    "If we have different system dependencies, we can get the conflict. To isolate  apps we can use containers.\n",
    "Dockerhub -> python image -> does it work with debian -> docker run -it(-i for interactive and -t for TTY (pseudo-terminal). Using them together lets you interact with a container as if you were running a command in a standard shell, like a bash session.) --rm(remove after using) --entrypoint=bash (start a cli inside of docker) python:3.12-slim (name of the image)"
   ]
  },
  {
   "cell_type": "markdown",
   "id": "6dff5aad-cdd0-4bf6-9245-ab994c40024c",
   "metadata": {},
   "source": [
    "Then we specify want we want in the Dockerfile."
   ]
  },
  {
   "cell_type": "markdown",
   "id": "a0fe6412-4c5e-4bb7-b427-45ff3b2f6584",
   "metadata": {},
   "source": [
    "```\n",
    "# Base image\n",
    "FROM python:3.12-slim\n",
    "\n",
    "RUN pip install pipenv\n",
    "\n",
    "# Create a directory and cd there\n",
    "WORKDIR /app\n",
    "\n",
    "RUN pipenv lock\n",
    "\n",
    "# Do not create enviroment, it is already isolated\n",
    "RUN pipenv install --system --deploy\n",
    "RUN pip install numpy flask scikit-learn\n",
    "RUN pip install gunicorn\n",
    "\n",
    "# Copy the files from your locl machine in the build enviroment\n",
    "COPY [\"predict.py\", \"model_C=1.0.bin\", \"./\"]\n",
    "```"
   ]
  },
  {
   "cell_type": "markdown",
   "id": "75e50f0b-02f4-48c1-8175-5b794c077851",
   "metadata": {},
   "source": [
    "To build and run the container using image: \n",
    "```\n",
    "docker build -t zoomcamp-test .\n",
    "```\n",
    "Then we can run the image we've created\n",
    "```\n",
    "docker run -it --rm entrypoint=bash zoomcamp-test\n",
    "```\n",
    "We can check if  the server is running\n",
    "```\n",
    "root@e883f9ebe59f:/app# gunicorn --bind=0.0.0.0:9696 predict:app\n",
    "```\n",
    "To expose it  to another container we need to open the port and map it to the port in the host machine."
   ]
  },
  {
   "cell_type": "markdown",
   "id": "9d8a1eab-3270-46be-9b40-9f565d2ce512",
   "metadata": {},
   "source": [
    "```\n",
    "# Base image\n",
    "FROM python:3.12-slim\n",
    "\n",
    "RUN pip install pipenv\n",
    "\n",
    "# Create a directory and cd there\n",
    "WORKDIR /app\n",
    "\n",
    "RUN pipenv lock\n",
    "\n",
    "# Do not create enviroment, it is already isolated\n",
    "RUN pipenv install --system --deploy\n",
    "RUN pip install numpy flask scikit-learn\n",
    "RUN pip install gunicorn\n",
    "\n",
    "# Copy the files from your locl machine in the build enviroment\n",
    "COPY [\"predict.py\", \"model_C=1.0.bin\", \"./\"]\n",
    "\n",
    "EXPOSE 9696\n",
    "\n",
    "ENTRYPOINT [\"gunicorn\", \"--bind=0.0.0.0:9696\", \"predict:app\"]\n",
    "```"
   ]
  },
  {
   "cell_type": "markdown",
   "id": "4fec533c-1c7e-4345-9dca-28767c225943",
   "metadata": {},
   "source": [
    "We are going to run it with the entrypoint specified in the Dockerfile. We are mapping the ports \"-p 9696(port from container):9696(port on the host machine)\"\n",
    "```\n",
    "docker run -it --rm -p 9696:9696 zoomcamp-test\n",
    "```"
   ]
  },
  {
   "cell_type": "markdown",
   "id": "d1eaa135-5e1d-4400-8c23-730fdbb445f1",
   "metadata": {},
   "source": [
    "## Deploying to the AWS Beanstalk\n",
    "\n",
    "It can help us to scale up if the number of requests to our service will rise. \n",
    "``` \n",
    "# We need it only to deploy, so it is called dev dependency, we do not need it in the container.\n",
    "pipenv install awsebcli --dev\n",
    "\n",
    "pipenv shell \n",
    "eb init -p docker -r eu-west-1 churn-serving\n",
    "\n",
    "# test locally\n",
    "eb local run --port 9696\n",
    "\n",
    "python predict_test.py\n",
    "\n",
    "# To run on the cloud\n",
    "eb create churn-serving-env\n",
    "\n",
    "# It creates the load manager and scaling"
   ]
  },
  {
   "cell_type": "markdown",
   "id": "c0c99106-6a8c-4009-b945-1d4d19d91a38",
   "metadata": {},
   "source": []
  },
  {
   "cell_type": "markdown",
   "id": "6800346e-aeef-4dbf-acfe-735ef6a4c20a",
   "metadata": {},
   "source": [
    "Then we have to change the host and port in the predict_test.py file."
   ]
  },
  {
   "cell_type": "markdown",
   "id": "7ef2de67-ab94-4259-b495-d59705736832",
   "metadata": {},
   "source": [
    "```\n",
    "host = 'churn-serving-env.eba-83499798.eu-west....'\n",
    "url = f'http://{host}/predict\n",
    "```\n",
    "EB uses the defult 80 port so we do not have to specify it.\n",
    "It is open to the world now. So check the permissions.\n",
    "\n",
    "To terminate:\n",
    "\n",
    "```\n",
    "eb terminate churn-serving-env\n",
    "```"
   ]
  },
  {
   "cell_type": "code",
   "execution_count": null,
   "id": "fcbc6708-6a5c-43cb-b1f0-51a5ee963147",
   "metadata": {},
   "outputs": [],
   "source": []
  },
  {
   "cell_type": "code",
   "execution_count": null,
   "id": "7d0d1cbb-6f59-4a7a-8e6c-f3f7023702b6",
   "metadata": {},
   "outputs": [],
   "source": []
  }
 ],
 "metadata": {
  "kernelspec": {
   "display_name": "Python 3 (ipykernel)",
   "language": "python",
   "name": "python3"
  },
  "language_info": {
   "codemirror_mode": {
    "name": "ipython",
    "version": 3
   },
   "file_extension": ".py",
   "mimetype": "text/x-python",
   "name": "python",
   "nbconvert_exporter": "python",
   "pygments_lexer": "ipython3",
   "version": "3.12.1"
  }
 },
 "nbformat": 4,
 "nbformat_minor": 5
}
