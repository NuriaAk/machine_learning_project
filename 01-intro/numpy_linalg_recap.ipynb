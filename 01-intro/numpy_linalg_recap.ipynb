{
 "cells": [
  {
   "cell_type": "code",
   "execution_count": 2,
   "id": "ffb1bad3-6928-4eeb-a3cb-7948bd56d78f",
   "metadata": {},
   "outputs": [],
   "source": [
    "import pandas as pd\n",
    "import numpy as np"
   ]
  },
  {
   "cell_type": "code",
   "execution_count": 4,
   "id": "ae08f8e7-544e-4cd2-b882-e38c9fda5df7",
   "metadata": {},
   "outputs": [
    {
     "data": {
      "text/plain": [
       "array([0., 0., 0., 0., 0.])"
      ]
     },
     "execution_count": 4,
     "metadata": {},
     "output_type": "execute_result"
    }
   ],
   "source": [
    "# Create an array\n",
    "np.zeros(5)"
   ]
  },
  {
   "cell_type": "code",
   "execution_count": 5,
   "id": "55fdd275-cbc8-498c-89e2-bc3bef9dc6ce",
   "metadata": {},
   "outputs": [
    {
     "data": {
      "text/plain": [
       "array([1., 1., 1., 1., 1., 1., 1., 1., 1., 1.])"
      ]
     },
     "execution_count": 5,
     "metadata": {},
     "output_type": "execute_result"
    }
   ],
   "source": [
    "np.ones(10)"
   ]
  },
  {
   "cell_type": "code",
   "execution_count": 7,
   "id": "5321dee4-e4ce-4fd4-85a9-150375ee2cb8",
   "metadata": {},
   "outputs": [
    {
     "data": {
      "text/plain": [
       "array([5, 5, 5])"
      ]
     },
     "execution_count": 7,
     "metadata": {},
     "output_type": "execute_result"
    }
   ],
   "source": [
    "np.full(3,5)"
   ]
  },
  {
   "cell_type": "code",
   "execution_count": 12,
   "id": "7a1e4402-cf8b-4093-9674-e43ab3c59200",
   "metadata": {},
   "outputs": [
    {
     "data": {
      "text/plain": [
       "array([ 1,  2, 44,  5,  7,  8, 10])"
      ]
     },
     "execution_count": 12,
     "metadata": {},
     "output_type": "execute_result"
    }
   ],
   "source": [
    "# Create an array from the list\n",
    "a = np.array([1,2,3,5,7,8,10])\n",
    "a[2] = 44\n",
    "a"
   ]
  },
  {
   "cell_type": "code",
   "execution_count": 14,
   "id": "bab4d42d-9065-4cfa-b3b3-36e8b07aabc0",
   "metadata": {},
   "outputs": [
    {
     "data": {
      "text/plain": [
       "array([3, 4, 5, 6, 7, 8, 9])"
      ]
     },
     "execution_count": 14,
     "metadata": {},
     "output_type": "execute_result"
    }
   ],
   "source": [
    "np.arange(3,10)"
   ]
  },
  {
   "cell_type": "code",
   "execution_count": 17,
   "id": "7bf0e305-8afe-4007-99d0-93ff99a6cc97",
   "metadata": {},
   "outputs": [
    {
     "data": {
      "text/plain": [
       "array([   0.,  100.,  200.,  300.,  400.,  500.,  600.,  700.,  800.,\n",
       "        900., 1000.])"
      ]
     },
     "execution_count": 17,
     "metadata": {},
     "output_type": "execute_result"
    }
   ],
   "source": [
    "# Create a space btwn arguments\n",
    "np.linspace(0,1000,11)"
   ]
  },
  {
   "cell_type": "code",
   "execution_count": 18,
   "id": "91e30164-daf6-41e8-b460-8aa8d9089fce",
   "metadata": {},
   "outputs": [
    {
     "data": {
      "text/plain": [
       "array([[0., 0., 0.],\n",
       "       [0., 0., 0.],\n",
       "       [0., 0., 0.],\n",
       "       [0., 0., 0.],\n",
       "       [0., 0., 0.]])"
      ]
     },
     "execution_count": 18,
     "metadata": {},
     "output_type": "execute_result"
    }
   ],
   "source": [
    "# Multi-dim arrays rows,cols\n",
    "np.zeros((5,3))"
   ]
  },
  {
   "cell_type": "code",
   "execution_count": 19,
   "id": "c5caf59d-31a7-4ada-9f07-263558bdcefb",
   "metadata": {},
   "outputs": [
    {
     "data": {
      "text/plain": [
       "array([[1, 2, 3],\n",
       "       [4, 5, 6],\n",
       "       [7, 8, 9]])"
      ]
     },
     "execution_count": 19,
     "metadata": {},
     "output_type": "execute_result"
    }
   ],
   "source": [
    "n = np.array([[1,2,3], [4,5,6], [7,8,9]])\n",
    "n"
   ]
  },
  {
   "cell_type": "code",
   "execution_count": 20,
   "id": "45267232-cb54-4e46-a711-9ca819c38761",
   "metadata": {},
   "outputs": [
    {
     "data": {
      "text/plain": [
       "np.int64(2)"
      ]
     },
     "execution_count": 20,
     "metadata": {},
     "output_type": "execute_result"
    }
   ],
   "source": [
    "n_2 = n[0,1]\n",
    "n_2 "
   ]
  },
  {
   "cell_type": "code",
   "execution_count": 22,
   "id": "c76c68dd-9534-4d8f-90ca-de43f6803f7a",
   "metadata": {},
   "outputs": [
    {
     "data": {
      "text/plain": [
       "array([1, 2, 3])"
      ]
     },
     "execution_count": 22,
     "metadata": {},
     "output_type": "execute_result"
    }
   ],
   "source": [
    "r_1 = n[0]\n",
    "r_1"
   ]
  },
  {
   "cell_type": "code",
   "execution_count": 23,
   "id": "3c815ea5-724b-416c-bbbb-16203092e471",
   "metadata": {},
   "outputs": [
    {
     "data": {
      "text/plain": [
       "array([[1, 1, 1],\n",
       "       [4, 5, 6],\n",
       "       [7, 8, 9]])"
      ]
     },
     "execution_count": 23,
     "metadata": {},
     "output_type": "execute_result"
    }
   ],
   "source": [
    "n[0] = [1,1,1]\n",
    "n"
   ]
  },
  {
   "cell_type": "code",
   "execution_count": 24,
   "id": "bbc466d2-8497-47fb-9aff-919859f06f7a",
   "metadata": {},
   "outputs": [
    {
     "data": {
      "text/plain": [
       "array([[0.77132064, 0.02075195],\n",
       "       [0.63364823, 0.74880388],\n",
       "       [0.49850701, 0.22479665],\n",
       "       [0.19806286, 0.76053071],\n",
       "       [0.16911084, 0.08833981]])"
      ]
     },
     "execution_count": 24,
     "metadata": {},
     "output_type": "execute_result"
    }
   ],
   "source": [
    "# Random std uniformed distribution, to reproduce add the seed\n",
    "np.random.seed(10)\n",
    "np.random.rand(5,2)"
   ]
  },
  {
   "cell_type": "code",
   "execution_count": 27,
   "id": "08b18198-12c3-4685-996e-b2d17d632750",
   "metadata": {},
   "outputs": [
    {
     "data": {
      "text/plain": [
       "array([[ 133.15865041,   71.52789744],\n",
       "       [-154.54002921,   -0.83838499],\n",
       "       [  62.13359739,  -72.00855607],\n",
       "       [  26.55115857,   10.85485257],\n",
       "       [   0.42914309,  -17.46002106]])"
      ]
     },
     "execution_count": 27,
     "metadata": {},
     "output_type": "execute_result"
    }
   ],
   "source": [
    "# Std normal distr\n",
    "np.random.seed(10)\n",
    "100 * np.random.randn(5,2)"
   ]
  },
  {
   "cell_type": "code",
   "execution_count": 28,
   "id": "6560b5a7-eadb-4768-9e8a-272a071ef1d9",
   "metadata": {},
   "outputs": [
    {
     "data": {
      "text/plain": [
       "array([[ 900, 1500],\n",
       "       [6400, 2800],\n",
       "       [8900, 9300],\n",
       "       [2900,  800],\n",
       "       [7300,    0]])"
      ]
     },
     "execution_count": 28,
     "metadata": {},
     "output_type": "execute_result"
    }
   ],
   "source": [
    "# Random int\n",
    "np.random.seed(10)\n",
    "100 * np.random.randint(low=0,high=100, size=(5,2))"
   ]
  },
  {
   "cell_type": "code",
   "execution_count": 30,
   "id": "f4439be4-4bc2-4c39-a69b-b714ff241515",
   "metadata": {},
   "outputs": [
    {
     "data": {
      "text/plain": [
       "array([0, 1, 2, 3, 4])"
      ]
     },
     "execution_count": 30,
     "metadata": {},
     "output_type": "execute_result"
    }
   ],
   "source": [
    "# Operations, instead of the for-loop with np we can proceed as it is\n",
    "a = np.arange(5)\n",
    "a"
   ]
  },
  {
   "cell_type": "code",
   "execution_count": 33,
   "id": "9a950dae-2c79-484c-95ce-a0a1dde88f00",
   "metadata": {},
   "outputs": [
    {
     "data": {
      "text/plain": [
       "array([100, 144, 196, 256, 324])"
      ]
     },
     "execution_count": 33,
     "metadata": {},
     "output_type": "execute_result"
    }
   ],
   "source": [
    "b = (10 + (a * 2)) ** 2\n",
    "b"
   ]
  },
  {
   "cell_type": "code",
   "execution_count": 34,
   "id": "748d1e64-756c-47ba-834d-6909a3b11710",
   "metadata": {},
   "outputs": [
    {
     "data": {
      "text/plain": [
       "array([100, 145, 198, 259, 328])"
      ]
     },
     "execution_count": 34,
     "metadata": {},
     "output_type": "execute_result"
    }
   ],
   "source": [
    "a + b"
   ]
  },
  {
   "cell_type": "code",
   "execution_count": 35,
   "id": "c31f172c-8cfe-4158-afa7-8e1161bdd6ab",
   "metadata": {},
   "outputs": [
    {
     "data": {
      "text/plain": [
       "array([False, False,  True,  True,  True])"
      ]
     },
     "execution_count": 35,
     "metadata": {},
     "output_type": "execute_result"
    }
   ],
   "source": [
    "# Comparison ops\n",
    "a >= 2"
   ]
  },
  {
   "cell_type": "code",
   "execution_count": 38,
   "id": "f29407d0-1f07-49f6-87f7-1f14f625f1f5",
   "metadata": {},
   "outputs": [
    {
     "data": {
      "text/plain": [
       "array([0, 1, 2, 3, 4])"
      ]
     },
     "execution_count": 38,
     "metadata": {},
     "output_type": "execute_result"
    }
   ],
   "source": [
    "# Returns all True elements\n",
    "a[a<b]"
   ]
  },
  {
   "cell_type": "code",
   "execution_count": 39,
   "id": "2a40aec0-f0bc-43e6-91bc-7c955df44d14",
   "metadata": {},
   "outputs": [
    {
     "data": {
      "text/plain": [
       "np.int64(0)"
      ]
     },
     "execution_count": 39,
     "metadata": {},
     "output_type": "execute_result"
    }
   ],
   "source": [
    "# Summarized operations\n",
    "a.min()"
   ]
  },
  {
   "cell_type": "code",
   "execution_count": 40,
   "id": "7b96a41e-4530-4daa-8c6d-1d56f12f0a8b",
   "metadata": {},
   "outputs": [
    {
     "data": {
      "text/plain": [
       "np.int64(4)"
      ]
     },
     "execution_count": 40,
     "metadata": {},
     "output_type": "execute_result"
    }
   ],
   "source": [
    "a.max()"
   ]
  },
  {
   "cell_type": "code",
   "execution_count": 41,
   "id": "cd967115-f97d-4516-92dc-95e7e623ad11",
   "metadata": {},
   "outputs": [
    {
     "data": {
      "text/plain": [
       "np.int64(10)"
      ]
     },
     "execution_count": 41,
     "metadata": {},
     "output_type": "execute_result"
    }
   ],
   "source": [
    "a.sum()"
   ]
  },
  {
   "cell_type": "code",
   "execution_count": 42,
   "id": "1677aa68-ad63-4261-a4ae-b5b46efeb9c7",
   "metadata": {},
   "outputs": [
    {
     "data": {
      "text/plain": [
       "np.float64(2.0)"
      ]
     },
     "execution_count": 42,
     "metadata": {},
     "output_type": "execute_result"
    }
   ],
   "source": [
    "a.mean()"
   ]
  },
  {
   "cell_type": "code",
   "execution_count": 65,
   "id": "77dadfbb-4e22-42de-9341-4018b1b04125",
   "metadata": {},
   "outputs": [
    {
     "data": {
      "text/plain": [
       "array([ 1.        ,  2.71828183,  7.3890561 , 20.08553692, 54.59815003])"
      ]
     },
     "execution_count": 65,
     "metadata": {},
     "output_type": "execute_result"
    }
   ],
   "source": [
    "np.exp(a) #log and sqrt as well"
   ]
  },
  {
   "cell_type": "code",
   "execution_count": 63,
   "id": "5771f49f-c497-4826-adff-5f091ccfd43b",
   "metadata": {},
   "outputs": [
    {
     "data": {
      "text/plain": [
       "np.float64(1.4142135623730951)"
      ]
     },
     "execution_count": 63,
     "metadata": {},
     "output_type": "execute_result"
    }
   ],
   "source": [
    "a.std()"
   ]
  },
  {
   "cell_type": "markdown",
   "id": "97c0df4c-db0f-4db6-93cb-0ff47c4051b0",
   "metadata": {},
   "source": [
    "# Linear Algebra Recap"
   ]
  },
  {
   "cell_type": "markdown",
   "id": "14b234ca-4ad3-4823-8ece-913737e85a68",
   "metadata": {},
   "source": [
    "The scalar vector product, also known as scalar multiplication, is a fundamental operation in linear algebra. \n",
    "It involves multiplying a scalar (a single number) by each component of a vector.\n",
    "To perform a scalar vector product, you simply multiply the scalar by each element of the vector separately. \n",
    "For example, if we have a scalar c and a vector v, the scalar vector product is denoted as c * v and is calculated as:\n",
    "\n",
    "c * v = (c * v₁, c * v₂, c * v₃, ..., c * vₙ)\n"
   ]
  },
  {
   "cell_type": "code",
   "execution_count": 45,
   "id": "ea9363a0-1ef8-442a-9a4a-2c696b05d3b2",
   "metadata": {},
   "outputs": [],
   "source": [
    "u = np.array([2, 4, 5, 6])\n",
    "v = 2 * u\n",
    "# Output:  array([4, 8, 10, 12])"
   ]
  },
  {
   "cell_type": "code",
   "execution_count": 46,
   "id": "d6a0455c-bc1e-40ae-b9d2-25f33b1bbf3f",
   "metadata": {},
   "outputs": [
    {
     "data": {
      "text/plain": [
       "array([ 6, 12, 15, 18])"
      ]
     },
     "execution_count": 46,
     "metadata": {},
     "output_type": "execute_result"
    }
   ],
   "source": [
    "u + v"
   ]
  },
  {
   "cell_type": "markdown",
   "id": "6db183a5-13c2-43a2-aa20-1a9116057cc4",
   "metadata": {},
   "source": [
    "## Dot product"
   ]
  },
  {
   "cell_type": "markdown",
   "id": "9b26e7bc-dff5-47d2-bfaf-6233b5d16b4b",
   "metadata": {},
   "source": [
    "vector * vector mult\n",
    "\n",
    "u · v = u₁v₁ + u₂v₂ + u₃v₃ + … + uₙvₙ\n",
    "\n",
    "An important use case is the dot product between a transposed vector and a vector, e.g. vTu.\n",
    "\n",
    "\n"
   ]
  },
  {
   "cell_type": "code",
   "execution_count": 98,
   "id": "b3242260-cde6-420d-a81c-c46c53d8c592",
   "metadata": {},
   "outputs": [],
   "source": [
    "# row * column\n",
    "u = np.array([2, 4, 5, 6])\n",
    "v = np.array([1,1,1,1])"
   ]
  },
  {
   "cell_type": "code",
   "execution_count": 121,
   "id": "bff2d836-dc2b-44c6-933f-8bdcacef323d",
   "metadata": {},
   "outputs": [],
   "source": [
    "# Important to check the shape of vectors\n",
    "def vec_vec_multiplication(u,v):\n",
    "    assert u.shape[0] == v.shape[0]\n",
    "    \n",
    "    result = 0.0\n",
    "    n = u.shape[0]\n",
    "    for i in range(n):\n",
    "        result = result + u[i] * v[i]\n",
    "    return result"
   ]
  },
  {
   "cell_type": "code",
   "execution_count": 128,
   "id": "431b993f-acdd-4832-87ba-b9906631e52c",
   "metadata": {},
   "outputs": [
    {
     "data": {
      "text/plain": [
       "np.float64(14.0)"
      ]
     },
     "execution_count": 128,
     "metadata": {},
     "output_type": "execute_result"
    }
   ],
   "source": [
    "u = np.array([2, 4, 5, 6])\n",
    "v = np.array([1, 0, 0, 2])\n",
    "# Output: 14.0\n",
    "vec_vec_multiplication(u,v)"
   ]
  },
  {
   "cell_type": "code",
   "execution_count": 129,
   "id": "1c682b4a-6e1c-4697-bab1-4240f5c76cda",
   "metadata": {},
   "outputs": [
    {
     "data": {
      "text/plain": [
       "np.int64(14)"
      ]
     },
     "execution_count": 129,
     "metadata": {},
     "output_type": "execute_result"
    }
   ],
   "source": [
    "u.dot(v)"
   ]
  },
  {
   "cell_type": "code",
   "execution_count": 124,
   "id": "401d5fef-0fed-4308-8adb-39fc7980fab7",
   "metadata": {},
   "outputs": [],
   "source": [
    "U = np.array([\n",
    "    [2, 4, 5, 6],\n",
    "    [1, 2, 1, 2],\n",
    "    [3, 1, 2, 1]\n",
    "])\n",
    " \n",
    "v = np.array([1, 0, 0, 2])"
   ]
  },
  {
   "cell_type": "code",
   "execution_count": 133,
   "id": "5137665c-2a61-438d-8f4b-fcb97876078c",
   "metadata": {},
   "outputs": [],
   "source": [
    "#num of cols in matrix = num of rows in vector\n",
    "def matrix_vector_mult(U, v):\n",
    "    assert U.shape[1] == v.shape[0]\n",
    "\n",
    "    n_rows = U.shape[0] # Size of the result vector\n",
    "\n",
    "    result = np.zeros(n_rows)\n",
    "    print(result)\n",
    "    # go through each row, multiply element by element and sum up\n",
    "\n",
    "    for i in range(n_rows):\n",
    "        result[i] = vec_vec_multiplication(U[i],v)\n",
    "    return result"
   ]
  },
  {
   "cell_type": "code",
   "execution_count": 134,
   "id": "2fe242ee-683c-4325-a45d-04a9a9570275",
   "metadata": {},
   "outputs": [
    {
     "data": {
      "text/plain": [
       "(4,)"
      ]
     },
     "execution_count": 134,
     "metadata": {},
     "output_type": "execute_result"
    }
   ],
   "source": [
    "v.shape"
   ]
  },
  {
   "cell_type": "code",
   "execution_count": 136,
   "id": "b5b20919-5356-4c15-a117-1e1582d0a4fa",
   "metadata": {},
   "outputs": [
    {
     "name": "stdout",
     "output_type": "stream",
     "text": [
      "[0. 0. 0.]\n"
     ]
    },
    {
     "data": {
      "text/plain": [
       "array([14.,  5.,  5.])"
      ]
     },
     "execution_count": 136,
     "metadata": {},
     "output_type": "execute_result"
    }
   ],
   "source": [
    "matrix_vector_mult(U,v)"
   ]
  },
  {
   "cell_type": "code",
   "execution_count": 137,
   "id": "e463a764-9855-4513-a28e-4338247edde6",
   "metadata": {},
   "outputs": [
    {
     "data": {
      "text/plain": [
       "array([14,  5,  5])"
      ]
     },
     "execution_count": 137,
     "metadata": {},
     "output_type": "execute_result"
    }
   ],
   "source": [
    "U.dot(v)"
   ]
  },
  {
   "cell_type": "code",
   "execution_count": 138,
   "id": "68d53199-5973-4d0f-b216-1ef745d304a9",
   "metadata": {},
   "outputs": [
    {
     "data": {
      "text/plain": [
       "' result_matrix = [14, 20, 13],\\n                    [5, 6,   5],\\n                    [5, 8.5, 9'"
      ]
     },
     "execution_count": 138,
     "metadata": {},
     "output_type": "execute_result"
    }
   ],
   "source": [
    "U = np.array([\n",
    "    [2, 4, 5, 6],\n",
    "    [1, 2, 1, 2],\n",
    "    [3, 1, 2, 1]\n",
    "])\n",
    "\n",
    "V = np.array([\n",
    "    [1, 1,   2],\n",
    "    [0, 0.5, 1],\n",
    "    [0, 2,   1],\n",
    "    [2, 1,   0]\n",
    "])\n",
    "\"\"\" result_matrix = [14, 20, 13],\n",
    "                    [5, 6,   5],\n",
    "                    [5, 8.5, 9\"\"\""
   ]
  },
  {
   "cell_type": "code",
   "execution_count": 139,
   "id": "e7bf0abb-df65-4a3e-ba96-a780a930dbaa",
   "metadata": {},
   "outputs": [
    {
     "data": {
      "text/plain": [
       "array([[14. , 20. , 13. ],\n",
       "       [ 5. ,  6. ,  5. ],\n",
       "       [ 5. ,  8.5,  9. ]])"
      ]
     },
     "execution_count": 139,
     "metadata": {},
     "output_type": "execute_result"
    }
   ],
   "source": [
    "U.dot(V)"
   ]
  },
  {
   "cell_type": "code",
   "execution_count": 142,
   "id": "5793c4aa-dd49-4c6d-927e-46b03c30bac8",
   "metadata": {},
   "outputs": [],
   "source": [
    "def matrix_matrix_mult(U,V):\n",
    "    assert U.shape[1] == V.shape[0]\n",
    "\n",
    "    n_result_rows = U.shape[0]\n",
    "    n_result_cols = V.shape[1]\n",
    "\n",
    "    result = np.zeros((n_result_rows, n_result_cols))\n",
    "    for i in range(n_result_cols):\n",
    "        vi = V[:,i]\n",
    "        Uvi = matrix_vector_mult(U, vi)\n",
    "        print(Uvi)\n",
    "        result[:,i] = Uvi\n",
    "    return result"
   ]
  },
  {
   "cell_type": "code",
   "execution_count": 141,
   "id": "88647ec0-377a-499f-b5ac-3bf2975b34b0",
   "metadata": {},
   "outputs": [
    {
     "data": {
      "text/plain": [
       "array([2, 1, 3])"
      ]
     },
     "execution_count": 141,
     "metadata": {},
     "output_type": "execute_result"
    }
   ],
   "source": [
    "U[:,0]"
   ]
  },
  {
   "cell_type": "code",
   "execution_count": 144,
   "id": "0c9e4a2e-a637-491b-8438-c01fcf5511f8",
   "metadata": {},
   "outputs": [
    {
     "name": "stdout",
     "output_type": "stream",
     "text": [
      "[0. 0. 0.]\n",
      "[14.  5.  5.]\n",
      "[0. 0. 0.]\n",
      "[20.   6.   8.5]\n",
      "[0. 0. 0.]\n",
      "[13.  5.  9.]\n"
     ]
    },
    {
     "data": {
      "text/plain": [
       "array([[14. , 20. , 13. ],\n",
       "       [ 5. ,  6. ,  5. ],\n",
       "       [ 5. ,  8.5,  9. ]])"
      ]
     },
     "execution_count": 144,
     "metadata": {},
     "output_type": "execute_result"
    }
   ],
   "source": [
    "matrix_matrix_mult(U,V)"
   ]
  },
  {
   "cell_type": "code",
   "execution_count": 145,
   "id": "2f6eca94-c047-4c40-bad4-281aa2275240",
   "metadata": {},
   "outputs": [
    {
     "data": {
      "text/plain": [
       "array([[14. , 20. , 13. ],\n",
       "       [ 5. ,  6. ,  5. ],\n",
       "       [ 5. ,  8.5,  9. ]])"
      ]
     },
     "execution_count": 145,
     "metadata": {},
     "output_type": "execute_result"
    }
   ],
   "source": [
    "U.dot(V)"
   ]
  },
  {
   "cell_type": "markdown",
   "id": "8ecc3d37-cee3-4548-b430-91411da73f72",
   "metadata": {},
   "source": [
    "## Identity matrix"
   ]
  },
  {
   "cell_type": "code",
   "execution_count": 146,
   "id": "864d401e-5c17-4bb6-bd75-5ac0861ff8c5",
   "metadata": {},
   "outputs": [],
   "source": [
    "I = np.eye(3)"
   ]
  },
  {
   "cell_type": "code",
   "execution_count": 147,
   "id": "93fb7be4-f9a6-454c-b40b-cc4f5cbd632b",
   "metadata": {},
   "outputs": [
    {
     "data": {
      "text/plain": [
       "array([[1. , 1. , 2. ],\n",
       "       [0. , 0.5, 1. ],\n",
       "       [0. , 2. , 1. ],\n",
       "       [2. , 1. , 0. ]])"
      ]
     },
     "execution_count": 147,
     "metadata": {},
     "output_type": "execute_result"
    }
   ],
   "source": [
    "V"
   ]
  },
  {
   "cell_type": "code",
   "execution_count": 149,
   "id": "60653993-d497-47d7-873e-fe991a612ee8",
   "metadata": {},
   "outputs": [
    {
     "data": {
      "text/plain": [
       "array([[1. , 1. , 2. ],\n",
       "       [0. , 0.5, 1. ],\n",
       "       [0. , 2. , 1. ],\n",
       "       [2. , 1. , 0. ]])"
      ]
     },
     "execution_count": 149,
     "metadata": {},
     "output_type": "execute_result"
    }
   ],
   "source": [
    "# When mult.by an identity matrix we are getting the same matrix back\n",
    "V.dot(I)"
   ]
  },
  {
   "cell_type": "code",
   "execution_count": null,
   "id": "2529a9cc-5259-4e04-bc19-7e614c1982b2",
   "metadata": {},
   "outputs": [],
   "source": []
  },
  {
   "cell_type": "markdown",
   "id": "8b32d180-7226-422d-9322-5ebb31e9891b",
   "metadata": {},
   "source": [
    "## Inversed matrix\n",
    "V.dot(Inversed_V) = Identity_V\n",
    "\n",
    "Only square n_rows=n_cols can be inversed"
   ]
  },
  {
   "cell_type": "code",
   "execution_count": 156,
   "id": "644b3382-a9ec-4f3b-9c2e-fe9da3b62364",
   "metadata": {},
   "outputs": [
    {
     "data": {
      "text/plain": [
       "array([[1. , 1. , 2. ],\n",
       "       [0. , 0.5, 1. ],\n",
       "       [0. , 2. , 1. ]])"
      ]
     },
     "execution_count": 156,
     "metadata": {},
     "output_type": "execute_result"
    }
   ],
   "source": [
    "# Let's take 3 rows of V matrix bcause it has 3 columns\n",
    "Square_V = V[[0,1,2]]\n",
    "Square_V"
   ]
  },
  {
   "cell_type": "code",
   "execution_count": 157,
   "id": "e4d8c405-3f0c-41ff-8a87-8b9d4af933f0",
   "metadata": {},
   "outputs": [
    {
     "data": {
      "text/plain": [
       "array([[ 1.        , -2.        ,  0.        ],\n",
       "       [ 0.        , -0.66666667,  0.66666667],\n",
       "       [ 0.        ,  1.33333333, -0.33333333]])"
      ]
     },
     "execution_count": 157,
     "metadata": {},
     "output_type": "execute_result"
    }
   ],
   "source": [
    "Inversed_Square_V = np.linalg.inv(Square_V)\n",
    "Inversed_Square_V "
   ]
  },
  {
   "cell_type": "code",
   "execution_count": 158,
   "id": "807f6aa1-0b33-4a98-91ce-abe0b96745c4",
   "metadata": {},
   "outputs": [
    {
     "data": {
      "text/plain": [
       "array([[1., 0., 0.],\n",
       "       [0., 1., 0.],\n",
       "       [0., 0., 1.]])"
      ]
     },
     "execution_count": 158,
     "metadata": {},
     "output_type": "execute_result"
    }
   ],
   "source": [
    "Inversed_Square_V.dot(Square_V)"
   ]
  },
  {
   "cell_type": "markdown",
   "id": "5d52bff5-6485-4ffe-b730-23af6a27cedb",
   "metadata": {},
   "source": [
    "As a result we have an identity matrix"
   ]
  },
  {
   "cell_type": "code",
   "execution_count": null,
   "id": "72936501-ac75-4d92-9df0-9b8a9e1d8e22",
   "metadata": {},
   "outputs": [],
   "source": []
  }
 ],
 "metadata": {
  "kernelspec": {
   "display_name": "Python 3 (ipykernel)",
   "language": "python",
   "name": "python3"
  },
  "language_info": {
   "codemirror_mode": {
    "name": "ipython",
    "version": 3
   },
   "file_extension": ".py",
   "mimetype": "text/x-python",
   "name": "python",
   "nbconvert_exporter": "python",
   "pygments_lexer": "ipython3",
   "version": "3.12.1"
  }
 },
 "nbformat": 4,
 "nbformat_minor": 5
}
